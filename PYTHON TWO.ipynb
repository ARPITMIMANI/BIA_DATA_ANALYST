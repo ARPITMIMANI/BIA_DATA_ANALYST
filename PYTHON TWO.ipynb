{
 "cells": [
  {
   "cell_type": "code",
   "execution_count": 1,
   "id": "eac717f8",
   "metadata": {},
   "outputs": [
    {
     "name": "stdout",
     "output_type": "stream",
     "text": [
      "0\n",
      "4\n",
      "8\n",
      "12\n",
      "16\n",
      "20\n",
      "24\n",
      "28\n",
      "32\n",
      "36\n",
      "40\n"
     ]
    }
   ],
   "source": [
    "for x in range(0,41,4):\n",
    "    print(x)"
   ]
  },
  {
   "cell_type": "code",
   "execution_count": 2,
   "id": "bc66fce8",
   "metadata": {},
   "outputs": [
    {
     "name": "stdout",
     "output_type": "stream",
     "text": [
      "480\n",
      "640\n",
      "560\n",
      "320\n",
      "720\n",
      "240\n",
      "800\n",
      "360\n",
      "420\n",
      "520\n"
     ]
    }
   ],
   "source": [
    "exp = [ 480 , 640 , 560 , 320 , 720 , 240 , 800 , 360 , 420 , 520 ]\n",
    "for y in exp:\n",
    "    print(y)"
   ]
  },
  {
   "cell_type": "code",
   "execution_count": 3,
   "id": "d73c4b91",
   "metadata": {},
   "outputs": [
    {
     "name": "stdout",
     "output_type": "stream",
     "text": [
      "5060\n"
     ]
    }
   ],
   "source": [
    "exp = [ 480 , 640 , 560 , 320 , 720 , 240 , 800 , 360 , 420 , 520 ]\n",
    "total = 0\n",
    "for z in exp:\n",
    "    total = total + z\n",
    "print(total)   "
   ]
  },
  {
   "cell_type": "code",
   "execution_count": 4,
   "id": "11fcb901",
   "metadata": {},
   "outputs": [
    {
     "name": "stdout",
     "output_type": "stream",
     "text": [
      "480\n",
      "1120\n",
      "1680\n",
      "2000\n",
      "2720\n",
      "2960\n",
      "3760\n",
      "4120\n",
      "4540\n",
      "5060\n"
     ]
    }
   ],
   "source": [
    "exp = [ 480 , 640 , 560 , 320 , 720 , 240 , 800 , 360 , 420 , 520 ]\n",
    "total = 0\n",
    "for z in exp:\n",
    "    total = total + z\n",
    "    print(total)  "
   ]
  },
  {
   "cell_type": "code",
   "execution_count": 5,
   "id": "f063f454",
   "metadata": {},
   "outputs": [
    {
     "name": "stdout",
     "output_type": "stream",
     "text": [
      "5700\n"
     ]
    }
   ],
   "source": [
    "expense = [ 1200 , 1300 , 1500 , 1700 ]\n",
    "sum = 0\n",
    "for w in expense:\n",
    "    sum = sum + w\n",
    "print(sum)  "
   ]
  },
  {
   "cell_type": "code",
   "execution_count": 6,
   "id": "0e321a6c",
   "metadata": {},
   "outputs": [
    {
     "name": "stdout",
     "output_type": "stream",
     "text": [
      "ENTER NUMBER :20\n",
      "210\n"
     ]
    }
   ],
   "source": [
    "v = int ( input (\"ENTER NUMBER :\" ) )\n",
    "total = 0\n",
    "for t in range ( 1 , v+1 ):\n",
    "    total = total + t\n",
    "print(total)"
   ]
  },
  {
   "cell_type": "code",
   "execution_count": 7,
   "id": "179a51dc",
   "metadata": {},
   "outputs": [
    {
     "name": "stdout",
     "output_type": "stream",
     "text": [
      "55\n"
     ]
    }
   ],
   "source": [
    "r = 0\n",
    "for s in range(1,11):\n",
    "    r = r + s\n",
    "print(r)"
   ]
  },
  {
   "cell_type": "code",
   "execution_count": 8,
   "id": "bec76bda",
   "metadata": {},
   "outputs": [
    {
     "name": "stdout",
     "output_type": "stream",
     "text": [
      "155\n"
     ]
    }
   ],
   "source": [
    "rr = 0\n",
    "for ss in range(11,21):\n",
    "    rr = rr + ss\n",
    "print(rr)    "
   ]
  },
  {
   "cell_type": "code",
   "execution_count": 9,
   "id": "11e76027",
   "metadata": {},
   "outputs": [
    {
     "name": "stdout",
     "output_type": "stream",
     "text": [
      "range(0, 5)\n"
     ]
    }
   ],
   "source": [
    "print ( range(0,5) )"
   ]
  },
  {
   "cell_type": "code",
   "execution_count": 10,
   "id": "7af3b9a9",
   "metadata": {},
   "outputs": [
    {
     "name": "stdout",
     "output_type": "stream",
     "text": [
      "[0, 1, 2, 3, 4]\n"
     ]
    }
   ],
   "source": [
    "print ( list (range(0,5)) )"
   ]
  },
  {
   "cell_type": "code",
   "execution_count": 11,
   "id": "685e20c7",
   "metadata": {},
   "outputs": [
    {
     "name": "stdout",
     "output_type": "stream",
     "text": [
      "0\n",
      "1\n",
      "2\n",
      "3\n",
      "4\n",
      "5\n",
      "6\n",
      "7\n",
      "8\n",
      "9\n"
     ]
    }
   ],
   "source": [
    "exp = [ 480 , 640 , 560 , 320 , 720 , 240 , 800 , 360 , 420 , 520 ]\n",
    "for q in range(len(exp)):\n",
    "    print(q)"
   ]
  },
  {
   "cell_type": "code",
   "execution_count": 12,
   "id": "a4f738b9",
   "metadata": {},
   "outputs": [
    {
     "name": "stdout",
     "output_type": "stream",
     "text": [
      "10\n"
     ]
    }
   ],
   "source": [
    "print (len(exp))"
   ]
  },
  {
   "cell_type": "code",
   "execution_count": 13,
   "id": "3531f25a",
   "metadata": {},
   "outputs": [
    {
     "name": "stdout",
     "output_type": "stream",
     "text": [
      "0\n",
      "1\n",
      "2\n",
      "3\n",
      "4\n",
      "5\n",
      "6\n",
      "7\n",
      "8\n",
      "9\n"
     ]
    }
   ],
   "source": [
    "exp = [ 480 , 640 , 560 , 320 , 720 , 240 , 800 , 360 , 420 , 520 ]\n",
    "p = len(exp)\n",
    "for q in range(p):\n",
    "    print(q)"
   ]
  },
  {
   "cell_type": "code",
   "execution_count": 14,
   "id": "a29fe6c9",
   "metadata": {},
   "outputs": [
    {
     "name": "stdout",
     "output_type": "stream",
     "text": [
      "KEY IS NOT FOUND : TABLE\n",
      "KEY IS NOT FOUND : CHAIR\n",
      "KEY IS NOT FOUND : CUPBOARD\n",
      "KEY IS NOT FOUND : BED\n",
      "KEY IS FOUND : GARAGE\n"
     ]
    }
   ],
   "source": [
    "locations = [ \"TABLE\" , \"CHAIR\" , \"CUPBOARD\" , \"BED\" , \"GARAGE\" , \"KITCHEN\" , \"SOFA\" , \"BOX\" ]\n",
    "\n",
    "for key in locations:\n",
    "    \n",
    "    if key == \"GARAGE\":\n",
    "        print ( \"KEY IS FOUND :\" , key )\n",
    "        break\n",
    "        \n",
    "    else:\n",
    "        print ( \"KEY IS NOT FOUND :\" , key )"
   ]
  },
  {
   "cell_type": "code",
   "execution_count": 15,
   "id": "cc4fb826",
   "metadata": {},
   "outputs": [
    {
     "name": "stdout",
     "output_type": "stream",
     "text": [
      "KEY IS NOT FOUND : TABLE\n",
      "KEY IS NOT FOUND : CHAIR\n",
      "KEY IS NOT FOUND : CUPBOARD\n",
      "KEY IS NOT FOUND : BED\n",
      "KEY IS FOUND : GARAGE\n",
      "KEY IS NOT FOUND : KITCHEN\n",
      "KEY IS NOT FOUND : SOFA\n",
      "KEY IS NOT FOUND : BOX\n"
     ]
    }
   ],
   "source": [
    "locations = [ \"TABLE\" , \"CHAIR\" , \"CUPBOARD\" , \"BED\" , \"GARAGE\" , \"KITCHEN\" , \"SOFA\" , \"BOX\" ]\n",
    "\n",
    "for key in locations:\n",
    "    \n",
    "    if key == \"GARAGE\":\n",
    "        print ( \"KEY IS FOUND :\" , key )\n",
    "        continue\n",
    "        \n",
    "    else:\n",
    "        print ( \"KEY IS NOT FOUND :\" , key )"
   ]
  },
  {
   "cell_type": "code",
   "execution_count": 16,
   "id": "dfbceefc",
   "metadata": {},
   "outputs": [
    {
     "name": "stdout",
     "output_type": "stream",
     "text": [
      "1\n",
      "3\n",
      "5\n",
      "7\n",
      "9\n"
     ]
    }
   ],
   "source": [
    "for n in range(0,11):\n",
    "    if n % 2 == 0:\n",
    "        continue\n",
    "    print(n)"
   ]
  },
  {
   "cell_type": "code",
   "execution_count": 17,
   "id": "69444083",
   "metadata": {},
   "outputs": [
    {
     "name": "stdout",
     "output_type": "stream",
     "text": [
      "0\n",
      "4\n",
      "8\n",
      "12\n",
      "16\n",
      "20\n",
      "24\n",
      "28\n",
      "32\n",
      "36\n",
      "40\n"
     ]
    }
   ],
   "source": [
    "for n in range(0,41):\n",
    "    if n % 4 != 0:\n",
    "        continue\n",
    "    print(n)"
   ]
  },
  {
   "cell_type": "code",
   "execution_count": 18,
   "id": "e6eb3031",
   "metadata": {},
   "outputs": [
    {
     "name": "stdout",
     "output_type": "stream",
     "text": [
      "0\n",
      "1\n",
      "2\n",
      "3\n",
      "4\n",
      "5\n",
      "6\n",
      "7\n",
      "8\n",
      "9\n",
      "10\n"
     ]
    }
   ],
   "source": [
    "m = 0\n",
    "while m <= 10:\n",
    "    print(m)\n",
    "    m = m + 1"
   ]
  },
  {
   "cell_type": "code",
   "execution_count": 19,
   "id": "36819046",
   "metadata": {},
   "outputs": [
    {
     "name": "stdout",
     "output_type": "stream",
     "text": [
      "392\n"
     ]
    }
   ],
   "source": [
    "weekly = [ 48 , 64 , 56 , 44 , 60 , 68 , 52 ]\n",
    "add = 0\n",
    "\n",
    "for w in weekly:\n",
    "    add = add + w\n",
    "print(add)"
   ]
  },
  {
   "cell_type": "code",
   "execution_count": 20,
   "id": "5df8a5b1",
   "metadata": {},
   "outputs": [
    {
     "name": "stdout",
     "output_type": "stream",
     "text": [
      "392\n"
     ]
    }
   ],
   "source": [
    "import numpy as np\n",
    "weekly = np.array ([ 48 , 64 , 56 , 44 , 60 , 68 , 52 ])\n",
    "add = 0\n",
    "\n",
    "for w in weekly:\n",
    "    add = add + w\n",
    "print(add)"
   ]
  },
  {
   "cell_type": "code",
   "execution_count": 21,
   "id": "0a158ee8",
   "metadata": {},
   "outputs": [
    {
     "name": "stdout",
     "output_type": "stream",
     "text": [
      "392\n"
     ]
    }
   ],
   "source": [
    "import numpy as np\n",
    "weekly = np.array ([ 48 , 64 , 56 , 44 , 60 , 68 , 52 ])\n",
    "add_weekly = np.sum(weekly)\n",
    "print(add_weekly)"
   ]
  },
  {
   "cell_type": "code",
   "execution_count": 22,
   "id": "6512a245",
   "metadata": {},
   "outputs": [
    {
     "name": "stdout",
     "output_type": "stream",
     "text": [
      "392\n"
     ]
    }
   ],
   "source": [
    "weekly = [ 48 , 64 , 56 , 44 , 60 , 68 , 52 ]\n",
    "\n",
    "def find_total (adds) :\n",
    "    sum = 0\n",
    "    for j in adds:\n",
    "        sum = sum + j\n",
    "    return sum\n",
    "\n",
    "print ( find_total(weekly) )"
   ]
  },
  {
   "cell_type": "code",
   "execution_count": 23,
   "id": "c320c847",
   "metadata": {},
   "outputs": [
    {
     "name": "stdout",
     "output_type": "stream",
     "text": [
      "676\n"
     ]
    }
   ],
   "source": [
    "def find_total (adds) :\n",
    "    sum = 0\n",
    "    for j in adds:\n",
    "        sum = sum + j\n",
    "    return sum\n",
    "\n",
    "scores = [ 81 , 82 , 83 , 84 , 85 , 86 , 87 , 88 ]\n",
    "print ( find_total(scores) )"
   ]
  },
  {
   "cell_type": "code",
   "execution_count": 24,
   "id": "c5d3b9e1",
   "metadata": {},
   "outputs": [
    {
     "name": "stdout",
     "output_type": "stream",
     "text": [
      "FRANCE\n",
      "ITALY\n",
      "GERMANY\n",
      "POLAND\n",
      "SPAIN\n",
      "NORWAY\n",
      "IRELAND\n",
      "LATVIA\n"
     ]
    }
   ],
   "source": [
    "country = ( \"FRANCE\" , \"ITALY\" , \"GERMANY\" , \"POLAND\" , \"SPAIN\" , \"NORWAY\" , \"IRELAND\" , \"LATVIA\" )\n",
    "for l in country:\n",
    "    print(l)"
   ]
  },
  {
   "cell_type": "code",
   "execution_count": 25,
   "id": "e2b45f9a",
   "metadata": {},
   "outputs": [
    {
     "name": "stdout",
     "output_type": "stream",
     "text": [
      "FRANCE\n",
      "ITALY\n",
      "GERMANY\n",
      "POLAND\n",
      "SPAIN\n",
      "NORWAY\n",
      "IRELAND\n",
      "LATVIA\n"
     ]
    }
   ],
   "source": [
    "state = [ \"FRANCE\" , \"ITALY\" , \"GERMANY\" , \"POLAND\" , \"SPAIN\" , \"NORWAY\" , \"IRELAND\" , \"LATVIA\" ]\n",
    "for k in state:\n",
    "    print(k)"
   ]
  },
  {
   "cell_type": "code",
   "execution_count": 26,
   "id": "6ca3946f",
   "metadata": {},
   "outputs": [
    {
     "name": "stdout",
     "output_type": "stream",
     "text": [
      "['FRANCE', 'ITALY', 'GERMANY', 'POLAND', 'SPAIN', 'NORWAY', 'IRELAND', 'ESTONIA']\n"
     ]
    }
   ],
   "source": [
    "state[7] = \"ESTONIA\"\n",
    "print(state)"
   ]
  },
  {
   "cell_type": "code",
   "execution_count": 27,
   "id": "1741ec2d",
   "metadata": {},
   "outputs": [
    {
     "name": "stdout",
     "output_type": "stream",
     "text": [
      "{'aaa': 1024, 'bbb': 1764, 'ccc': 1296, 'ddd': 1600, 'eee': 1444, 'fff': 1936, 'ggg': 2116, 'hhh': 1156}\n"
     ]
    }
   ],
   "source": [
    "contacts = { \"aaa\" : 1024 , \"bbb\" : 1764 , \"ccc\" : 1296 , \"ddd\" : 1600 , \"eee\" : 1444 , \"fff\" : 1936 \n",
    "            , \"ggg\" : 2116 , \"hhh\" : 1156 }\n",
    "print(contacts)"
   ]
  },
  {
   "cell_type": "code",
   "execution_count": 28,
   "id": "076796bc",
   "metadata": {},
   "outputs": [
    {
     "name": "stdout",
     "output_type": "stream",
     "text": [
      "1600\n"
     ]
    }
   ],
   "source": [
    "print ( contacts[\"ddd\"] )"
   ]
  },
  {
   "cell_type": "code",
   "execution_count": 29,
   "id": "6f8ecad8",
   "metadata": {},
   "outputs": [
    {
     "name": "stdout",
     "output_type": "stream",
     "text": [
      "{'aaa': 1024, 'bbb': 1764, 'ccc': 1296, 'ddd': 1600, 'eee': 1444, 'fff': 2304, 'ggg': 2116, 'hhh': 1156}\n"
     ]
    }
   ],
   "source": [
    "contacts[\"fff\"] = 2304\n",
    "print(contacts)"
   ]
  },
  {
   "cell_type": "code",
   "execution_count": 30,
   "id": "d0de772e",
   "metadata": {},
   "outputs": [
    {
     "name": "stdout",
     "output_type": "stream",
     "text": [
      "['__class__', '__class_getitem__', '__contains__', '__delattr__', '__delitem__', '__dir__', '__doc__', '__eq__', '__format__', '__ge__', '__getattribute__', '__getitem__', '__gt__', '__hash__', '__init__', '__init_subclass__', '__ior__', '__iter__', '__le__', '__len__', '__lt__', '__ne__', '__new__', '__or__', '__reduce__', '__reduce_ex__', '__repr__', '__reversed__', '__ror__', '__setattr__', '__setitem__', '__sizeof__', '__str__', '__subclasshook__', 'clear', 'copy', 'fromkeys', 'get', 'items', 'keys', 'pop', 'popitem', 'setdefault', 'update', 'values']\n"
     ]
    }
   ],
   "source": [
    "print (dir(contacts))"
   ]
  },
  {
   "cell_type": "code",
   "execution_count": 31,
   "id": "a60673d7",
   "metadata": {},
   "outputs": [
    {
     "name": "stdout",
     "output_type": "stream",
     "text": [
      "dict_items([('aaa', 1024), ('bbb', 1764), ('ccc', 1296), ('ddd', 1600), ('eee', 1444), ('fff', 2304), ('ggg', 2116), ('hhh', 1156)])\n"
     ]
    }
   ],
   "source": [
    "print ( contacts.items() )"
   ]
  },
  {
   "cell_type": "code",
   "execution_count": 32,
   "id": "f60cd78b",
   "metadata": {},
   "outputs": [
    {
     "name": "stdout",
     "output_type": "stream",
     "text": [
      "dict_values([1024, 1764, 1296, 1600, 1444, 2304, 2116, 1156])\n"
     ]
    }
   ],
   "source": [
    "print ( contacts.values() )"
   ]
  },
  {
   "cell_type": "code",
   "execution_count": 33,
   "id": "817c9bb1",
   "metadata": {},
   "outputs": [
    {
     "name": "stdout",
     "output_type": "stream",
     "text": [
      "dict_keys(['aaa', 'bbb', 'ccc', 'ddd', 'eee', 'fff', 'ggg', 'hhh'])\n"
     ]
    }
   ],
   "source": [
    "print ( contacts.keys() )"
   ]
  },
  {
   "cell_type": "code",
   "execution_count": 34,
   "id": "37d001c0",
   "metadata": {},
   "outputs": [
    {
     "name": "stdout",
     "output_type": "stream",
     "text": [
      "aaa 1024\n",
      "bbb 1764\n",
      "ccc 1296\n",
      "ddd 1600\n",
      "eee 1444\n",
      "fff 2304\n",
      "ggg 2116\n",
      "hhh 1156\n"
     ]
    }
   ],
   "source": [
    "for names in contacts:\n",
    "    print ( names , contacts[names] )"
   ]
  },
  {
   "cell_type": "code",
   "execution_count": 35,
   "id": "09fbd6b5",
   "metadata": {},
   "outputs": [
    {
     "name": "stdout",
     "output_type": "stream",
     "text": [
      "1024\n",
      "1764\n",
      "1296\n",
      "1600\n",
      "1444\n",
      "2304\n",
      "2116\n",
      "1156\n"
     ]
    }
   ],
   "source": [
    "for names in contacts:\n",
    "    print ( contacts[names] )"
   ]
  },
  {
   "cell_type": "code",
   "execution_count": 36,
   "id": "e7d0ddcf",
   "metadata": {},
   "outputs": [
    {
     "name": "stdout",
     "output_type": "stream",
     "text": [
      "aaa\n",
      "bbb\n",
      "ccc\n",
      "ddd\n",
      "eee\n",
      "fff\n",
      "ggg\n",
      "hhh\n"
     ]
    }
   ],
   "source": [
    "for names in contacts:\n",
    "    print ( names )"
   ]
  },
  {
   "cell_type": "code",
   "execution_count": 37,
   "id": "12444c94",
   "metadata": {},
   "outputs": [
    {
     "name": "stdout",
     "output_type": "stream",
     "text": [
      "2990763878848\n"
     ]
    }
   ],
   "source": [
    "print ( id(contacts) )"
   ]
  },
  {
   "cell_type": "code",
   "execution_count": 38,
   "id": "d25d91de",
   "metadata": {},
   "outputs": [
    {
     "name": "stdout",
     "output_type": "stream",
     "text": [
      "          day  temperature  windspeed  event\n",
      "0  01-01-2017           32          6   Rain\n",
      "1  02-01-2017           35          7  Sunny\n",
      "2  03-01-2017           28          2   Snow\n",
      "3  04-01-2017           24          7   Snow\n",
      "4  05-01-2017           32          4   Rain\n",
      "5  06-01-2017           32          2  Sunny\n"
     ]
    }
   ],
   "source": [
    "import pandas as pd\n",
    "df = pd.read_csv( \"WEATHER_DATA.csv\" , header=0 , sep=\",\" )\n",
    "print ( df.to_string() )"
   ]
  },
  {
   "cell_type": "code",
   "execution_count": 39,
   "id": "69b7945a",
   "metadata": {},
   "outputs": [
    {
     "name": "stdout",
     "output_type": "stream",
     "text": [
      "{'day': ['01-01-2017', '02-01-2017', '03-01-2017', '04-01-2017', '05-01-2017', '06-01-2017'], 'temperature': [32, 35, 28, 24, 32, 31], 'windspeed': [4, 7, 3, 7, 4, 2], 'event': ['RAIN', 'SUNNY', 'SNOW', 'SNOW', 'RAIN', 'SUNNY']}\n"
     ]
    }
   ],
   "source": [
    "weather = {\n",
    " 'day' : [ \"01-01-2017\" , \"02-01-2017\" , \"03-01-2017\" , \"04-01-2017\" , \"05-01-2017\" , \"06-01-2017\" ] ,   \n",
    " 'temperature' : [32,35,28,24,32,31] , \n",
    " 'windspeed' : [4,7,3,7,4,2] , \n",
    " 'event' : [ \"RAIN\" , \"SUNNY\" , \"SNOW\" , \"SNOW\" , \"RAIN\" , \"SUNNY\" ] }\n",
    "\n",
    "print(weather)"
   ]
  },
  {
   "cell_type": "code",
   "execution_count": 40,
   "id": "988406b3",
   "metadata": {},
   "outputs": [
    {
     "name": "stdout",
     "output_type": "stream",
     "text": [
      "Index(['day', 'temperature', 'windspeed', 'event'], dtype='object')\n"
     ]
    }
   ],
   "source": [
    "print ( df.columns )"
   ]
  },
  {
   "cell_type": "code",
   "execution_count": 41,
   "id": "4545d0f8",
   "metadata": {},
   "outputs": [
    {
     "name": "stdout",
     "output_type": "stream",
     "text": [
      "(6, 4)\n"
     ]
    }
   ],
   "source": [
    "print ( df.shape )"
   ]
  },
  {
   "cell_type": "code",
   "execution_count": 42,
   "id": "7aec910d",
   "metadata": {},
   "outputs": [
    {
     "name": "stdout",
     "output_type": "stream",
     "text": [
      "       temperature  windspeed\n",
      "count     6.000000   6.000000\n",
      "mean     30.500000   4.666667\n",
      "std       3.885872   2.338090\n",
      "min      24.000000   2.000000\n",
      "25%      29.000000   2.500000\n",
      "50%      32.000000   5.000000\n",
      "75%      32.000000   6.750000\n",
      "max      35.000000   7.000000\n"
     ]
    }
   ],
   "source": [
    "print ( df.describe() )"
   ]
  },
  {
   "cell_type": "code",
   "execution_count": 43,
   "id": "4c747146",
   "metadata": {},
   "outputs": [
    {
     "name": "stdout",
     "output_type": "stream",
     "text": [
      "<class 'pandas.core.frame.DataFrame'>\n",
      "RangeIndex: 6 entries, 0 to 5\n",
      "Data columns (total 4 columns):\n",
      " #   Column       Non-Null Count  Dtype \n",
      "---  ------       --------------  ----- \n",
      " 0   day          6 non-null      object\n",
      " 1   temperature  6 non-null      int64 \n",
      " 2   windspeed    6 non-null      int64 \n",
      " 3   event        6 non-null      object\n",
      "dtypes: int64(2), object(2)\n",
      "memory usage: 320.0+ bytes\n",
      "None\n"
     ]
    }
   ],
   "source": [
    "print ( df.info() )"
   ]
  },
  {
   "cell_type": "code",
   "execution_count": 44,
   "id": "261a3472",
   "metadata": {},
   "outputs": [
    {
     "name": "stdout",
     "output_type": "stream",
     "text": [
      "<class 'pandas.core.frame.DataFrame'>\n"
     ]
    }
   ],
   "source": [
    "print (type(df))"
   ]
  },
  {
   "cell_type": "code",
   "execution_count": 45,
   "id": "a3e8d7e6",
   "metadata": {},
   "outputs": [
    {
     "name": "stdout",
     "output_type": "stream",
     "text": [
      "<class 'pandas.core.series.Series'>\n"
     ]
    }
   ],
   "source": [
    "print (type(df[\"day\"]))"
   ]
  },
  {
   "cell_type": "code",
   "execution_count": 46,
   "id": "71f23165",
   "metadata": {},
   "outputs": [
    {
     "name": "stdout",
     "output_type": "stream",
     "text": [
      "0    01-01-2017\n",
      "1    02-01-2017\n",
      "2    03-01-2017\n",
      "3    04-01-2017\n",
      "4    05-01-2017\n",
      "5    06-01-2017\n",
      "Name: day, dtype: object\n"
     ]
    }
   ],
   "source": [
    "print ( df[\"day\"] )"
   ]
  },
  {
   "cell_type": "code",
   "execution_count": 47,
   "id": "1fe5fe10",
   "metadata": {},
   "outputs": [
    {
     "name": "stdout",
     "output_type": "stream",
     "text": [
      "35\n"
     ]
    }
   ],
   "source": [
    "print ( df[\"temperature\"].max() )"
   ]
  },
  {
   "cell_type": "code",
   "execution_count": 48,
   "id": "ecca50c2",
   "metadata": {},
   "outputs": [
    {
     "name": "stdout",
     "output_type": "stream",
     "text": [
      "24\n"
     ]
    }
   ],
   "source": [
    "print ( df[\"temperature\"].min() )"
   ]
  },
  {
   "cell_type": "code",
   "execution_count": 49,
   "id": "6d15188f",
   "metadata": {},
   "outputs": [
    {
     "name": "stdout",
     "output_type": "stream",
     "text": [
      "0    False\n",
      "1     True\n",
      "2    False\n",
      "3    False\n",
      "4    False\n",
      "5    False\n",
      "Name: temperature, dtype: bool\n"
     ]
    }
   ],
   "source": [
    "print ( df[\"temperature\"] > 32 )"
   ]
  },
  {
   "cell_type": "code",
   "execution_count": 50,
   "id": "4b3f40e4",
   "metadata": {},
   "outputs": [
    {
     "name": "stdout",
     "output_type": "stream",
     "text": [
      "          day  temperature  windspeed  event\n",
      "0  01-01-2017           32          4   RAIN\n",
      "1  02-01-2017           35          7  SUNNY\n",
      "2  03-01-2017           28          3   SNOW\n",
      "3  04-01-2017           24          7   SNOW\n",
      "4  05-01-2017           32          4   RAIN\n",
      "5  06-01-2017           31          2  SUNNY\n"
     ]
    }
   ],
   "source": [
    "import pandas as pd\n",
    "wea_data = pd.DataFrame( data=weather )\n",
    "print(wea_data)"
   ]
  },
  {
   "cell_type": "code",
   "execution_count": 51,
   "id": "53b2356b",
   "metadata": {},
   "outputs": [
    {
     "name": "stdout",
     "output_type": "stream",
     "text": [
      "        CITY  TEMPERATURE  HUMIDITY\n",
      "0     MUMBAI           32        80\n",
      "1      DELHI           45        60\n",
      "2  BANGALORE           30        78\n"
     ]
    }
   ],
   "source": [
    "india_weather = pd.DataFrame ({\n",
    "\"CITY\" : [ \"MUMBAI\" , \"DELHI\" , \"BANGALORE\" ] ,\n",
    "\"TEMPERATURE\" : [32,45,30] ,\n",
    "\"HUMIDITY\" : [80,60,78]\n",
    "})\n",
    "\n",
    "print(india_weather)"
   ]
  },
  {
   "cell_type": "code",
   "execution_count": 52,
   "id": "ae59748a",
   "metadata": {},
   "outputs": [
    {
     "name": "stdout",
     "output_type": "stream",
     "text": [
      "      CITY  TEMPERATURE  HUMIDITY\n",
      "0  NEWYORK           21        68\n",
      "1  CHICAGO           14        65\n",
      "2  ORLANDO           35        75\n"
     ]
    }
   ],
   "source": [
    "america_weather = pd.DataFrame ({\n",
    "\"CITY\" : [ \"NEWYORK\" , \"CHICAGO\" , \"ORLANDO\" ] ,\n",
    "\"TEMPERATURE\" : [21,14,35] ,\n",
    "\"HUMIDITY\" : [68,65,75]\n",
    "})\n",
    "\n",
    "print(america_weather)"
   ]
  },
  {
   "cell_type": "code",
   "execution_count": 53,
   "id": "a22f9ce9",
   "metadata": {},
   "outputs": [
    {
     "name": "stdout",
     "output_type": "stream",
     "text": [
      "        CITY  TEMPERATURE  HUMIDITY\n",
      "0     MUMBAI           32        80\n",
      "1      DELHI           45        60\n",
      "2  BANGALORE           30        78\n",
      "0    NEWYORK           21        68\n",
      "1    CHICAGO           14        65\n",
      "2    ORLANDO           35        75\n"
     ]
    }
   ],
   "source": [
    "defs = pd.concat ([ india_weather , america_weather ])\n",
    "print(defs)"
   ]
  },
  {
   "cell_type": "code",
   "execution_count": 54,
   "id": "77f5a886",
   "metadata": {},
   "outputs": [
    {
     "name": "stdout",
     "output_type": "stream",
     "text": [
      "                CITY  TEMPERATURE  HUMIDITY\n",
      "INDIA   0     MUMBAI           32        80\n",
      "        1      DELHI           45        60\n",
      "        2  BANGALORE           30        78\n",
      "AMERICA 0    NEWYORK           21        68\n",
      "        1    CHICAGO           14        65\n",
      "        2    ORLANDO           35        75\n"
     ]
    }
   ],
   "source": [
    "d = pd.concat ([ india_weather , america_weather ], keys=[ \"INDIA\" , \"AMERICA\" ])\n",
    "print(d)"
   ]
  },
  {
   "cell_type": "code",
   "execution_count": 55,
   "id": "fce2f618",
   "metadata": {},
   "outputs": [
    {
     "name": "stdout",
     "output_type": "stream",
     "text": [
      "        CITY  TEMPERATURE  HUMIDITY\n",
      "0     MUMBAI           32        80\n",
      "1      DELHI           45        60\n",
      "2  BANGALORE           30        78\n"
     ]
    }
   ],
   "source": [
    "print ( d.loc[\"INDIA\"] )"
   ]
  },
  {
   "cell_type": "code",
   "execution_count": 56,
   "id": "21c4be4a",
   "metadata": {},
   "outputs": [
    {
     "name": "stdout",
     "output_type": "stream",
     "text": [
      "      CITY  TEMPERATURE  HUMIDITY\n",
      "0  NEWYORK           21        68\n",
      "1  CHICAGO           14        65\n",
      "2  ORLANDO           35        75\n"
     ]
    }
   ],
   "source": [
    "print ( d.loc[\"AMERICA\"] )"
   ]
  },
  {
   "cell_type": "code",
   "execution_count": 57,
   "id": "378a8859",
   "metadata": {},
   "outputs": [
    {
     "name": "stdout",
     "output_type": "stream",
     "text": [
      "        CITY  TEMPERATURE\n",
      "0     MUMBAI           32\n",
      "1      DELHI           45\n",
      "2  BANGALORE           30\n"
     ]
    }
   ],
   "source": [
    "df1 = pd.DataFrame ({\n",
    "\"CITY\" : [ \"MUMBAI\" , \"DELHI\" , \"BANGALORE\" ] ,\n",
    "\"TEMPERATURE\" : [32,45,30]     \n",
    "})\n",
    "print(df1)"
   ]
  },
  {
   "cell_type": "code",
   "execution_count": 58,
   "id": "599558ba",
   "metadata": {},
   "outputs": [
    {
     "name": "stdout",
     "output_type": "stream",
     "text": [
      "        CITY  HUMIDITY\n",
      "0     MUMBAI        68\n",
      "1      DELHI        65\n",
      "2  BANGALORE        75\n"
     ]
    }
   ],
   "source": [
    "df2 = pd.DataFrame ({\n",
    "\"CITY\" : [ \"MUMBAI\" , \"DELHI\" , \"BANGALORE\" ] ,\n",
    "\"HUMIDITY\" : [68,65,75]   \n",
    "})\n",
    "print(df2)"
   ]
  },
  {
   "cell_type": "code",
   "execution_count": 59,
   "id": "ba2bfd52",
   "metadata": {},
   "outputs": [
    {
     "name": "stdout",
     "output_type": "stream",
     "text": [
      "        CITY  TEMPERATURE  HUMIDITY\n",
      "0     MUMBAI           32        68\n",
      "1      DELHI           45        65\n",
      "2  BANGALORE           30        75\n"
     ]
    }
   ],
   "source": [
    "df_inner = pd.merge ( df1 , df2 , on=\"CITY\" , how=\"inner\" )\n",
    "print(df_inner)"
   ]
  },
  {
   "cell_type": "code",
   "execution_count": 60,
   "id": "033ce380",
   "metadata": {},
   "outputs": [
    {
     "name": "stdout",
     "output_type": "stream",
     "text": [
      "      CITY  TEMPERATURE\n",
      "0     PUNE           34\n",
      "1   RAJKOT           36\n",
      "2   RAIPUR           42\n",
      "3    PATNA           32\n",
      "4  CHENNAI           40\n",
      "5   NAGPUR           38\n"
     ]
    }
   ],
   "source": [
    "df3 = pd.DataFrame ({\n",
    "\"CITY\" : [ \"PUNE\" , \"RAJKOT\" , \"RAIPUR\" , \"PATNA\" , \"CHENNAI\" , \"NAGPUR\" ] ,\n",
    "\"TEMPERATURE\" : [34,36,42,32,40,38]     \n",
    "})\n",
    "print(df3)"
   ]
  },
  {
   "cell_type": "code",
   "execution_count": 61,
   "id": "5d3ab6d0",
   "metadata": {},
   "outputs": [
    {
     "name": "stdout",
     "output_type": "stream",
     "text": [
      "      CITY  HUMIDITY\n",
      "0     PUNE        84\n",
      "1   RAJKOT        64\n",
      "2   RAIPUR        76\n",
      "3    SURAT        80\n",
      "4    KOCHI        92\n",
      "5  LUCKNOW        60\n"
     ]
    }
   ],
   "source": [
    "df4 = pd.DataFrame ({\n",
    "\"CITY\" : [ \"PUNE\" , \"RAJKOT\" , \"RAIPUR\" , \"SURAT\" , \"KOCHI\" , \"LUCKNOW\" ] ,\n",
    "\"HUMIDITY\" : [84,64,76,80,92,60]     \n",
    "})\n",
    "print(df4)"
   ]
  },
  {
   "cell_type": "code",
   "execution_count": 62,
   "id": "4768f607",
   "metadata": {},
   "outputs": [
    {
     "name": "stdout",
     "output_type": "stream",
     "text": [
      "     CITY  TEMPERATURE  HUMIDITY\n",
      "0    PUNE           34        84\n",
      "1  RAJKOT           36        64\n",
      "2  RAIPUR           42        76\n"
     ]
    }
   ],
   "source": [
    "df_inner_join = pd.merge ( df3 , df4 , on=\"CITY\" , how=\"inner\" )\n",
    "print (df_inner_join)"
   ]
  },
  {
   "cell_type": "code",
   "execution_count": 63,
   "id": "2aae27c7",
   "metadata": {},
   "outputs": [
    {
     "name": "stdout",
     "output_type": "stream",
     "text": [
      "      CITY  TEMPERATURE  HUMIDITY\n",
      "0     PUNE         34.0      84.0\n",
      "1   RAJKOT         36.0      64.0\n",
      "2   RAIPUR         42.0      76.0\n",
      "3    PATNA         32.0       NaN\n",
      "4  CHENNAI         40.0       NaN\n",
      "5   NAGPUR         38.0       NaN\n",
      "6    SURAT          NaN      80.0\n",
      "7    KOCHI          NaN      92.0\n",
      "8  LUCKNOW          NaN      60.0\n"
     ]
    }
   ],
   "source": [
    "df_outer = pd.merge ( df3 , df4 , on=\"CITY\" , how=\"outer\" )\n",
    "print (df_outer)"
   ]
  },
  {
   "cell_type": "code",
   "execution_count": 64,
   "id": "34531381",
   "metadata": {},
   "outputs": [
    {
     "name": "stdout",
     "output_type": "stream",
     "text": [
      "      CITY  TEMPERATURE  HUMIDITY\n",
      "0     PUNE           34      84.0\n",
      "1   RAJKOT           36      64.0\n",
      "2   RAIPUR           42      76.0\n",
      "3    PATNA           32       NaN\n",
      "4  CHENNAI           40       NaN\n",
      "5   NAGPUR           38       NaN\n"
     ]
    }
   ],
   "source": [
    "df_left = pd.merge ( df3 , df4 , on=\"CITY\" , how=\"left\" )\n",
    "print (df_left)"
   ]
  },
  {
   "cell_type": "code",
   "execution_count": 65,
   "id": "85efce08",
   "metadata": {},
   "outputs": [
    {
     "name": "stdout",
     "output_type": "stream",
     "text": [
      "      CITY  TEMPERATURE  HUMIDITY\n",
      "0     PUNE         34.0        84\n",
      "1   RAJKOT         36.0        64\n",
      "2   RAIPUR         42.0        76\n",
      "3    SURAT          NaN        80\n",
      "4    KOCHI          NaN        92\n",
      "5  LUCKNOW          NaN        60\n"
     ]
    }
   ],
   "source": [
    "df_right = pd.merge ( df3 , df4 , on=\"CITY\" , how=\"right\" )\n",
    "print (df_right)"
   ]
  },
  {
   "cell_type": "code",
   "execution_count": 66,
   "id": "581ab0d3",
   "metadata": {},
   "outputs": [
    {
     "name": "stdout",
     "output_type": "stream",
     "text": [
      "          day  temperature  windspeed  event\n",
      "1  02-01-2017           35          7  Sunny\n",
      "2  03-01-2017           28          2   Snow\n",
      "3  04-01-2017           24          7   Snow\n",
      "4  05-01-2017           32          4   Rain\n",
      "5  06-01-2017           32          2  Sunny\n"
     ]
    }
   ],
   "source": [
    "print (df.tail() )"
   ]
  },
  {
   "cell_type": "code",
   "execution_count": 67,
   "id": "1b477b10",
   "metadata": {},
   "outputs": [
    {
     "name": "stdout",
     "output_type": "stream",
     "text": [
      "          day  temperature  windspeed  event\n",
      "0  01-01-2017           32          6   Rain\n",
      "1  02-01-2017           35          7  Sunny\n",
      "2  03-01-2017           28          2   Snow\n",
      "3  04-01-2017           24          7   Snow\n",
      "4  05-01-2017           32          4   Rain\n"
     ]
    }
   ],
   "source": [
    "print ( df.head() )"
   ]
  },
  {
   "cell_type": "code",
   "execution_count": 68,
   "id": "aa9acdfb",
   "metadata": {},
   "outputs": [
    {
     "name": "stdout",
     "output_type": "stream",
     "text": [
      "day            6\n",
      "temperature    6\n",
      "windspeed      6\n",
      "event          6\n",
      "dtype: int64\n"
     ]
    }
   ],
   "source": [
    "print ( df.count() )"
   ]
  },
  {
   "cell_type": "code",
   "execution_count": null,
   "id": "fd88dcbd",
   "metadata": {},
   "outputs": [],
   "source": []
  }
 ],
 "metadata": {
  "kernelspec": {
   "display_name": "Python 3 (ipykernel)",
   "language": "python",
   "name": "python3"
  },
  "language_info": {
   "codemirror_mode": {
    "name": "ipython",
    "version": 3
   },
   "file_extension": ".py",
   "mimetype": "text/x-python",
   "name": "python",
   "nbconvert_exporter": "python",
   "pygments_lexer": "ipython3",
   "version": "3.10.9"
  }
 },
 "nbformat": 4,
 "nbformat_minor": 5
}
