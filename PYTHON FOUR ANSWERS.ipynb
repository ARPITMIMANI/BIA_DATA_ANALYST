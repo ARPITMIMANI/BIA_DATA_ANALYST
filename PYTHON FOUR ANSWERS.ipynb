{
 "cells": [
  {
   "cell_type": "code",
   "execution_count": 1,
   "id": "43fc8caa",
   "metadata": {},
   "outputs": [
    {
     "name": "stdout",
     "output_type": "stream",
     "text": [
      "ENTER THE WEIGHT IN KILOGRAM:76.4\n",
      "ENTER THE LENGTH IN METER:1.66\n",
      "OVER WIGHT\n",
      "THE VALUE OF BMI IS : 27.7253592683989\n"
     ]
    }
   ],
   "source": [
    "# CREATE A BMI CALCULATOR . \n",
    "\n",
    "kilogram = float ( input ( \"ENTER THE WEIGHT IN KILOGRAM:\" ) )\n",
    "meter = float ( input ( \"ENTER THE LENGTH IN METER:\" ) )\n",
    "\n",
    "bmi = kilogram / ( meter ** 2 )\n",
    "\n",
    "if bmi < 16 :\n",
    "    print ( \"SEVERE THICKNESS\" )\n",
    "    print ( \"THE VALUE OF BMI IS :\" , bmi )\n",
    "\n",
    "elif bmi >= 16 and bmi < 17 :\n",
    "    print ( \"MODERATE THICKNESS\" )\n",
    "    print ( \"THE VALUE OF BMI IS :\" , bmi )\n",
    "\n",
    "elif bmi >= 17 and bmi < 18.5 :  \n",
    "    print ( \"MILD THICKNESS\" )\n",
    "    print ( \"THE VALUE OF BMI IS :\" , bmi )\n",
    "\n",
    "elif bmi >= 18.5 and bmi < 25 : \n",
    "    print ( \"NORMAL WIGHT\" )  \n",
    "    print ( \"THE VALUE OF BMI IS :\" , bmi )\n",
    "\n",
    "elif bmi >= 25 and bmi < 30 : \n",
    "    print ( \"OVER WIGHT\" ) \n",
    "    print ( \"THE VALUE OF BMI IS :\" , bmi )\n",
    "\n",
    "elif bmi >= 30 and bmi < 35 : \n",
    "    print ( \"OBESITY CLASS ONE\" )\n",
    "    print ( \"THE VALUE OF BMI IS :\" , bmi )\n",
    "\n",
    "elif bmi >= 35 and bmi < 40 : \n",
    "    print ( \"OBESITY CLASS TWO\" )\n",
    "    print ( \"THE VALUE OF BMI IS :\" , bmi )\n",
    "\n",
    "else : \n",
    "    print ( \"OBESITY CLASS THREE\" )\n",
    "    print ( \"THE VALUE OF BMI IS :\" , bmi )"
   ]
  },
  {
   "cell_type": "code",
   "execution_count": 2,
   "id": "06753b7a",
   "metadata": {},
   "outputs": [
    {
     "name": "stdout",
     "output_type": "stream",
     "text": [
      "THE SUM OF EVEN NUMBERS FROM 1 TO 20 IS : 110\n"
     ]
    }
   ],
   "source": [
    "# PROGRAM TO FIND THE SUM OF ALL NUMBERS EXCEPT ODD NUMBERS BETWEEN 1 TO 20 .\n",
    "\n",
    "# USING WHILE LOOP .\n",
    "\n",
    "total = 0\n",
    "num = 1\n",
    "while num <= 20 :\n",
    "    if num % 2 == 0 :\n",
    "        total = total + num\n",
    "    num = num + 1\n",
    "print ( \"THE SUM OF EVEN NUMBERS FROM 1 TO 20 IS :\" , total ) "
   ]
  },
  {
   "cell_type": "code",
   "execution_count": 3,
   "id": "2cbb1305",
   "metadata": {},
   "outputs": [
    {
     "name": "stdout",
     "output_type": "stream",
     "text": [
      "THE SUM OF EVEN NUMBERS FROM 1 TO 20 IS : 110\n"
     ]
    }
   ],
   "source": [
    "# PROGRAM TO FIND THE SUM OF ALL NUMBERS EXCEPT ODD NUMBERS BETWEEN 1 TO 20 .\n",
    "\n",
    "# USING FOR LOOP .\n",
    "\n",
    "totals = 0 \n",
    "for nums in range (1,21) :\n",
    "    if nums % 2 == 0 :\n",
    "        totals = totals + nums\n",
    "    nums = nums + 1\n",
    "print ( \"THE SUM OF EVEN NUMBERS FROM 1 TO 20 IS :\" , totals )  "
   ]
  },
  {
   "cell_type": "code",
   "execution_count": 4,
   "id": "487413d7",
   "metadata": {},
   "outputs": [
    {
     "name": "stdout",
     "output_type": "stream",
     "text": [
      "( JOBIN , 5 ),( JAYESH , 6 ),( LIVINSTON , 9 ),( SUNDARAM , 8 ),( PRAVIN , 6 ),( ARPIT , 5 ),( PREETHY , 7 ),( TOM , 3 ),( ADAM , 4 ),( PRATEEK , 7 ),"
     ]
    }
   ],
   "source": [
    "'''\n",
    "CREATE A LIST OF FRIENDS NAME AND NOW CREATE A LIST OF TUPLES . \n",
    "THE TUPLE SHOULD CONTAINS FRIENDS NAME AND THE LENGTH OF THE NAME \n",
    "FOR EXAMPLE IF \"JAYESH\" IT SHOULD BE ( \"JAYESH\" , 6 ) .\n",
    "'''\n",
    "\n",
    "list_friends = [ \"JOBIN\" , \"JAYESH\" , \"LIVINSTON\" , \"SUNDARAM\" , \"PRAVIN\" , \"ARPIT\" , \"PREETHY\" , \"TOM\" , \"ADAM\" , \"PRATEEK\" ]\n",
    "for names in list_friends :\n",
    "    print ( \"(\" , names , \",\" ,  len(names) , \")\" , end=\",\" )"
   ]
  },
  {
   "cell_type": "code",
   "execution_count": 5,
   "id": "8a693711",
   "metadata": {},
   "outputs": [
    {
     "name": "stdout",
     "output_type": "stream",
     "text": [
      "True\n"
     ]
    }
   ],
   "source": [
    "# WRITE A PYTHON FUNCTION TO CHECK IF ANY GIVEN NUMBER IS PRIME NUMBER AND ODD NUMBER .\n",
    "\n",
    "def prime_odd (values) :\n",
    "    if values % 2 == 0 :\n",
    "        return False\n",
    "    if values < 2 :\n",
    "        return False\n",
    "    for v in range ( 2 , values//2 ) :\n",
    "        if values % v == 0 :\n",
    "            return False\n",
    "        else :\n",
    "            return True   \n",
    "print ( prime_odd(17) )  "
   ]
  },
  {
   "cell_type": "code",
   "execution_count": null,
   "id": "08deb4b7",
   "metadata": {},
   "outputs": [],
   "source": []
  }
 ],
 "metadata": {
  "kernelspec": {
   "display_name": "Python 3 (ipykernel)",
   "language": "python",
   "name": "python3"
  },
  "language_info": {
   "codemirror_mode": {
    "name": "ipython",
    "version": 3
   },
   "file_extension": ".py",
   "mimetype": "text/x-python",
   "name": "python",
   "nbconvert_exporter": "python",
   "pygments_lexer": "ipython3",
   "version": "3.10.9"
  }
 },
 "nbformat": 4,
 "nbformat_minor": 5
}
