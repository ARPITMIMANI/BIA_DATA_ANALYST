{
 "cells": [
  {
   "cell_type": "code",
   "execution_count": 1,
   "id": "4b8386ca",
   "metadata": {},
   "outputs": [
    {
     "name": "stdout",
     "output_type": "stream",
     "text": [
      "ENTER NUMBER : 20\n",
      "EVEN\n"
     ]
    }
   ],
   "source": [
    "x = input(\"ENTER NUMBER : \")\n",
    "x = int(x)\n",
    "if x % 2 == 0:\n",
    "    print(\"EVEN\")\n",
    "else:\n",
    "    print(\"ODD\")    "
   ]
  },
  {
   "cell_type": "code",
   "execution_count": 2,
   "id": "c4ea6329",
   "metadata": {},
   "outputs": [
    {
     "name": "stdout",
     "output_type": "stream",
     "text": [
      "my first name is : arpit my last name is : mimani\n"
     ]
    }
   ],
   "source": [
    "first = \"arpit\"\n",
    "last = \"mimani\"\n",
    "print( \"my first name is :\", first , \"my last name is :\" , last )"
   ]
  },
  {
   "cell_type": "code",
   "execution_count": 3,
   "id": "9e0e7284",
   "metadata": {},
   "outputs": [
    {
     "name": "stdout",
     "output_type": "stream",
     "text": [
      "<class 'str'>\n"
     ]
    }
   ],
   "source": [
    "print (type(first))"
   ]
  },
  {
   "cell_type": "code",
   "execution_count": 4,
   "id": "d065a8d3",
   "metadata": {},
   "outputs": [
    {
     "name": "stdout",
     "output_type": "stream",
     "text": [
      "<class 'str'>\n"
     ]
    }
   ],
   "source": [
    "print ( type(last))"
   ]
  },
  {
   "cell_type": "code",
   "execution_count": 5,
   "id": "6f168e6d",
   "metadata": {},
   "outputs": [
    {
     "name": "stdout",
     "output_type": "stream",
     "text": [
      "<class 'int'>\n"
     ]
    }
   ],
   "source": [
    "pizza = 450\n",
    "print (type(pizza))"
   ]
  },
  {
   "cell_type": "code",
   "execution_count": 6,
   "id": "0f527493",
   "metadata": {},
   "outputs": [
    {
     "name": "stdout",
     "output_type": "stream",
     "text": [
      "<class 'float'>\n"
     ]
    }
   ],
   "source": [
    "samosa = 20.5\n",
    "print (type(samosa))"
   ]
  },
  {
   "cell_type": "code",
   "execution_count": 7,
   "id": "35753c63",
   "metadata": {},
   "outputs": [
    {
     "name": "stdout",
     "output_type": "stream",
     "text": [
      "<class 'complex'>\n"
     ]
    }
   ],
   "source": [
    "ice_cream = 40j\n",
    "print (type(ice_cream))"
   ]
  },
  {
   "cell_type": "code",
   "execution_count": 8,
   "id": "e1e7369e",
   "metadata": {},
   "outputs": [
    {
     "name": "stdout",
     "output_type": "stream",
     "text": [
      "(470.5+40j)\n"
     ]
    }
   ],
   "source": [
    "total = pizza + samosa + ice_cream\n",
    "print(total)"
   ]
  },
  {
   "cell_type": "code",
   "execution_count": 9,
   "id": "af3790b9",
   "metadata": {},
   "outputs": [
    {
     "name": "stdout",
     "output_type": "stream",
     "text": [
      "1\n",
      "2\n",
      "3\n",
      "4\n",
      "5\n",
      "6\n",
      "7\n",
      "8\n",
      "9\n",
      "10\n"
     ]
    }
   ],
   "source": [
    "y = 0\n",
    "while y < 10 :\n",
    "    y = y + 1 \n",
    "    print(y)"
   ]
  },
  {
   "cell_type": "code",
   "execution_count": 10,
   "id": "8e231cda",
   "metadata": {},
   "outputs": [
    {
     "name": "stdout",
     "output_type": "stream",
     "text": [
      "510.5\n"
     ]
    }
   ],
   "source": [
    "import numpy as np\n",
    "items = np.array([ 450 , 20.5 , 40 ])\n",
    "print( np.sum(items) )"
   ]
  },
  {
   "cell_type": "code",
   "execution_count": 11,
   "id": "0ca363c4",
   "metadata": {},
   "outputs": [
    {
     "name": "stdout",
     "output_type": "stream",
     "text": [
      "<class 'bool'>\n"
     ]
    }
   ],
   "source": [
    "learn_python = True\n",
    "print (type(learn_python))"
   ]
  },
  {
   "cell_type": "code",
   "execution_count": 12,
   "id": "438bd2a3",
   "metadata": {},
   "outputs": [
    {
     "name": "stdout",
     "output_type": "stream",
     "text": [
      "11\n",
      "12\n",
      "13\n",
      "14\n",
      "15\n",
      "16\n",
      "17\n",
      "18\n",
      "19\n",
      "20\n"
     ]
    }
   ],
   "source": [
    "for z in range(11,21):\n",
    "    print(z)"
   ]
  },
  {
   "cell_type": "code",
   "execution_count": 13,
   "id": "c4fbb7b7",
   "metadata": {},
   "outputs": [
    {
     "data": {
      "image/png": "[encoded data removed]",
      "text/plain": [
       "<Figure size 640x480 with 1 Axes>"
      ]
     },
     "metadata": {},
     "output_type": "display_data"
    }
   ],
   "source": [
    "import matplotlib.pyplot as plt\n",
    "\n",
    "x = [1,2,3,4,5,6,7,8,9,10]\n",
    "y = [34,38,32,40,36,34,32,40,38,36]\n",
    "\n",
    "plt.scatter ( x , y )\n",
    "plt.ylim ( ymin=28 , ymax=42 )\n",
    "\n",
    "plt.title(\"SCATTER PLOT\")\n",
    "plt.xlabel(\"X-AXIS\")\n",
    "plt.ylabel(\"Y-AXIS\")\n",
    "\n",
    "plt.grid()\n",
    "plt.show()"
   ]
  },
  {
   "cell_type": "code",
   "execution_count": 14,
   "id": "ec168df2",
   "metadata": {},
   "outputs": [
    {
     "name": "stdout",
     "output_type": "stream",
     "text": [
      "mango\n"
     ]
    }
   ],
   "source": [
    "aa = \"mango\"\n",
    "bb = aa\n",
    "print(bb)"
   ]
  },
  {
   "cell_type": "code",
   "execution_count": 15,
   "id": "f9396cf0",
   "metadata": {},
   "outputs": [
    {
     "name": "stdout",
     "output_type": "stream",
     "text": [
      "1566738774704\n"
     ]
    }
   ],
   "source": [
    "print (id(aa))"
   ]
  },
  {
   "cell_type": "code",
   "execution_count": 16,
   "id": "cd52c6d5",
   "metadata": {},
   "outputs": [
    {
     "name": "stdout",
     "output_type": "stream",
     "text": [
      "5\n"
     ]
    }
   ],
   "source": [
    "print (len(aa))"
   ]
  },
  {
   "cell_type": "code",
   "execution_count": 17,
   "id": "15478cc2",
   "metadata": {},
   "outputs": [
    {
     "name": "stdout",
     "output_type": "stream",
     "text": [
      "False\n"
     ]
    }
   ],
   "source": [
    "_def = False\n",
    "print(_def)"
   ]
  },
  {
   "cell_type": "code",
   "execution_count": 18,
   "id": "0cd0c278",
   "metadata": {},
   "outputs": [
    {
     "name": "stdout",
     "output_type": "stream",
     "text": [
      "[[ 8.65926527  7.95589554 16.58934049 18.83890738 13.32440498 12.30166969]\n",
      " [ 8.72198178  9.86174644  5.49783356 10.44745118  1.74844122 13.74039134]\n",
      " [11.99683992  7.14392366 16.93104595 11.3707993   5.82789458 11.099712  ]\n",
      " [13.20710953 16.65835445 13.60867706 14.13929124 11.93088213 11.77161959]\n",
      " [ 9.4432386  13.54216564  7.64558928  7.82368045  5.04349447  9.3005931 ]\n",
      " [11.45313107 11.1463817  12.0102561   7.26368712 10.70643377 22.80551196]\n",
      " [10.263917   11.21582623 11.75444401 11.51360842  2.97012132 18.34439727]\n",
      " [ 8.50732883  3.22402904 13.11523618  7.86183471  9.08190902  9.41329289]]\n"
     ]
    }
   ],
   "source": [
    "import numpy as np\n",
    "df = np.random.normal ( loc=10 , scale=4 , size=(8,6) )\n",
    "print(df)"
   ]
  },
  {
   "cell_type": "code",
   "execution_count": 19,
   "id": "54f16708",
   "metadata": {},
   "outputs": [
    {
     "name": "stdout",
     "output_type": "stream",
     "text": [
      "BASE :144\n",
      "HEIGHT :72\n",
      "5184.0\n"
     ]
    }
   ],
   "source": [
    "b = input(\"BASE :\")\n",
    "h = input(\"HEIGHT :\")\n",
    "b = int(b)\n",
    "h = int(h)\n",
    "area_of_triangle =  0.5 * b * h \n",
    "print (area_of_triangle)"
   ]
  },
  {
   "cell_type": "code",
   "execution_count": 20,
   "id": "fafee1aa",
   "metadata": {},
   "outputs": [
    {
     "name": "stdout",
     "output_type": "stream",
     "text": [
      "RADIUS :10\n",
      "314.15000000000003\n"
     ]
    }
   ],
   "source": [
    "import numpy as np\n",
    "p = 3.1415\n",
    "r = input(\"RADIUS :\")\n",
    "r = float(r)\n",
    "circle = p * ( r ** 2 )\n",
    "print(circle)"
   ]
  },
  {
   "cell_type": "code",
   "execution_count": 21,
   "id": "ba2a8f34",
   "metadata": {},
   "outputs": [
    {
     "name": "stdout",
     "output_type": "stream",
     "text": [
      "RADIUS :5\n",
      "78.53750000000001\n"
     ]
    }
   ],
   "source": [
    "p = 3.1415\n",
    "r = input(\"RADIUS :\")\n",
    "r = float(r)\n",
    "circle = p * ( r ** 2 )\n",
    "print(circle)"
   ]
  },
  {
   "cell_type": "code",
   "execution_count": 22,
   "id": "2c08c4e7",
   "metadata": {},
   "outputs": [
    {
     "name": "stdout",
     "output_type": "stream",
     "text": [
      "NUMBER 1 :23\n",
      "NUMBER 2 :5\n",
      "23\n",
      "5\n"
     ]
    }
   ],
   "source": [
    "num1 = input(\"NUMBER 1 :\")\n",
    "num2 = input(\"NUMBER 2 :\")\n",
    "\n",
    "num1 = int(num1)\n",
    "num2 = int(num2)\n",
    "\n",
    "print(num1)\n",
    "print(num2)"
   ]
  },
  {
   "cell_type": "code",
   "execution_count": 23,
   "id": "62869b1d",
   "metadata": {},
   "outputs": [
    {
     "name": "stdout",
     "output_type": "stream",
     "text": [
      "28\n"
     ]
    }
   ],
   "source": [
    "print ( num1 + num2 )"
   ]
  },
  {
   "cell_type": "code",
   "execution_count": 24,
   "id": "618ec800",
   "metadata": {},
   "outputs": [
    {
     "name": "stdout",
     "output_type": "stream",
     "text": [
      "115\n"
     ]
    }
   ],
   "source": [
    "print ( num2 * num1 )"
   ]
  },
  {
   "cell_type": "code",
   "execution_count": 25,
   "id": "602e172f",
   "metadata": {},
   "outputs": [
    {
     "name": "stdout",
     "output_type": "stream",
     "text": [
      "-18\n"
     ]
    }
   ],
   "source": [
    "print ( num2 - num1 )"
   ]
  },
  {
   "cell_type": "code",
   "execution_count": 26,
   "id": "d9bbe9e4",
   "metadata": {},
   "outputs": [
    {
     "name": "stdout",
     "output_type": "stream",
     "text": [
      "0.21739130434782608\n"
     ]
    }
   ],
   "source": [
    "print ( num2 / num1 )"
   ]
  },
  {
   "cell_type": "code",
   "execution_count": 27,
   "id": "ff6d2bec",
   "metadata": {},
   "outputs": [
    {
     "name": "stdout",
     "output_type": "stream",
     "text": [
      "4.6\n"
     ]
    }
   ],
   "source": [
    "print ( num1 / num2 )"
   ]
  },
  {
   "cell_type": "code",
   "execution_count": 28,
   "id": "1654a81b",
   "metadata": {},
   "outputs": [
    {
     "name": "stdout",
     "output_type": "stream",
     "text": [
      "4\n"
     ]
    }
   ],
   "source": [
    "print ( num1 // num2 )"
   ]
  },
  {
   "cell_type": "code",
   "execution_count": 29,
   "id": "9af2f3c9",
   "metadata": {},
   "outputs": [
    {
     "name": "stdout",
     "output_type": "stream",
     "text": [
      "3\n"
     ]
    }
   ],
   "source": [
    "print ( num1 % num2 )"
   ]
  },
  {
   "cell_type": "code",
   "execution_count": 30,
   "id": "7948f1ff",
   "metadata": {},
   "outputs": [
    {
     "name": "stdout",
     "output_type": "stream",
     "text": [
      "6436343\n"
     ]
    }
   ],
   "source": [
    "print ( num1 ** num2 )"
   ]
  },
  {
   "cell_type": "code",
   "execution_count": 31,
   "id": "5ee17ed3",
   "metadata": {},
   "outputs": [
    {
     "name": "stdout",
     "output_type": "stream",
     "text": [
      "38188.5\n"
     ]
    }
   ],
   "source": [
    "food = 1200\n",
    "rent = 23200\n",
    "utilities = 13788.5\n",
    "exp = food + rent + utilities \n",
    "print(exp)"
   ]
  },
  {
   "cell_type": "code",
   "execution_count": 32,
   "id": "7697b804",
   "metadata": {},
   "outputs": [
    {
     "name": "stdout",
     "output_type": "stream",
     "text": [
      "20500\n"
     ]
    }
   ],
   "source": [
    "income = 55000\n",
    "expense = 34500\n",
    "saving = income - expense\n",
    "print(saving)"
   ]
  },
  {
   "cell_type": "code",
   "execution_count": 33,
   "id": "a905ef9e",
   "metadata": {},
   "outputs": [
    {
     "name": "stdout",
     "output_type": "stream",
     "text": [
      "arpitmimani\n",
      "arpit mimani\n"
     ]
    }
   ],
   "source": [
    "first = \"arpit\"\n",
    "last = \"mimani\"\n",
    "print ( first + last )\n",
    "print ( first + \" \" + last )"
   ]
  },
  {
   "cell_type": "code",
   "execution_count": 34,
   "id": "7b6b4224",
   "metadata": {},
   "outputs": [
    {
     "name": "stdout",
     "output_type": "stream",
     "text": [
      " my first name is arpit and my last name is mimani \n"
     ]
    }
   ],
   "source": [
    "print ( f\" my first name is {first} and my last name is {last} \" )"
   ]
  },
  {
   "cell_type": "code",
   "execution_count": 35,
   "id": "c36938c4",
   "metadata": {},
   "outputs": [
    {
     "name": "stdout",
     "output_type": "stream",
     "text": [
      " my full name is arpit mimani \n"
     ]
    }
   ],
   "source": [
    "print ( f\" my full name is {first} {last} \" )"
   ]
  },
  {
   "cell_type": "code",
   "execution_count": 36,
   "id": "63ff0537",
   "metadata": {},
   "outputs": [
    {
     "name": "stdout",
     "output_type": "stream",
     "text": [
      " my full name is arpitmimani \n"
     ]
    }
   ],
   "source": [
    "print ( f\" my full name is {first}{last} \" )"
   ]
  },
  {
   "cell_type": "code",
   "execution_count": 37,
   "id": "d05dc1b2",
   "metadata": {},
   "outputs": [
    {
     "name": "stdout",
     "output_type": "stream",
     "text": [
      "MY FULL NAME IS ARPIT MIMANI\n"
     ]
    }
   ],
   "source": [
    "fullname = \"MY FULL NAME IS ARPIT MIMANI\"\n",
    "print( fullname [0:] )"
   ]
  },
  {
   "cell_type": "code",
   "execution_count": 38,
   "id": "3abb7eb8",
   "metadata": {},
   "outputs": [
    {
     "name": "stdout",
     "output_type": "stream",
     "text": [
      "ARPIT\n"
     ]
    }
   ],
   "source": [
    "print ( fullname[16:21] )"
   ]
  },
  {
   "cell_type": "code",
   "execution_count": 39,
   "id": "bca6b690",
   "metadata": {},
   "outputs": [
    {
     "name": "stdout",
     "output_type": "stream",
     "text": [
      "ARPIT\n"
     ]
    }
   ],
   "source": [
    "print ( fullname[-12:-7] )"
   ]
  },
  {
   "cell_type": "code",
   "execution_count": 40,
   "id": "2570ee91",
   "metadata": {},
   "outputs": [
    {
     "name": "stdout",
     "output_type": "stream",
     "text": [
      "MIMANI\n"
     ]
    }
   ],
   "source": [
    "print ( fullname[-6:] )"
   ]
  },
  {
   "cell_type": "code",
   "execution_count": 41,
   "id": "84e8960f",
   "metadata": {},
   "outputs": [
    {
     "name": "stdout",
     "output_type": "stream",
     "text": [
      "MIMANI\n"
     ]
    }
   ],
   "source": [
    "print ( fullname[22:] )"
   ]
  },
  {
   "cell_type": "code",
   "execution_count": 42,
   "id": "49c41f9c",
   "metadata": {},
   "outputs": [
    {
     "name": "stdout",
     "output_type": "stream",
     "text": [
      "M ULNM SAPTMMN\n"
     ]
    }
   ],
   "source": [
    "print ( fullname[::2] )"
   ]
  },
  {
   "cell_type": "code",
   "execution_count": 43,
   "id": "e34eeaff",
   "metadata": {},
   "outputs": [
    {
     "name": "stdout",
     "output_type": "stream",
     "text": [
      "MFLA  P MI\n"
     ]
    }
   ],
   "source": [
    "print ( fullname[::3] )"
   ]
  },
  {
   "cell_type": "code",
   "execution_count": 44,
   "id": "b72a0c11",
   "metadata": {},
   "outputs": [
    {
     "name": "stdout",
     "output_type": "stream",
     "text": [
      "I\n"
     ]
    }
   ],
   "source": [
    "print ( fullname[-1] )"
   ]
  },
  {
   "cell_type": "code",
   "execution_count": 45,
   "id": "b1d19228",
   "metadata": {},
   "outputs": [
    {
     "name": "stdout",
     "output_type": "stream",
     "text": [
      "MIMANI\n"
     ]
    }
   ],
   "source": [
    "print ( fullname[-6:] )"
   ]
  },
  {
   "cell_type": "code",
   "execution_count": 46,
   "id": "c831071e",
   "metadata": {},
   "outputs": [
    {
     "name": "stdout",
     "output_type": "stream",
     "text": [
      "28\n"
     ]
    }
   ],
   "source": [
    "print (len(fullname))"
   ]
  },
  {
   "cell_type": "code",
   "execution_count": 47,
   "id": "40f9c612",
   "metadata": {},
   "outputs": [
    {
     "name": "stdout",
     "output_type": "stream",
     "text": [
      "False\n"
     ]
    }
   ],
   "source": [
    "print ( \"my\" in fullname )"
   ]
  },
  {
   "cell_type": "code",
   "execution_count": 48,
   "id": "40160ff3",
   "metadata": {},
   "outputs": [
    {
     "name": "stdout",
     "output_type": "stream",
     "text": [
      "True\n"
     ]
    }
   ],
   "source": [
    "print ( \"MY\" in fullname )"
   ]
  },
  {
   "cell_type": "code",
   "execution_count": 49,
   "id": "b3da26e5",
   "metadata": {},
   "outputs": [
    {
     "name": "stdout",
     "output_type": "stream",
     "text": [
      "JAYESH'S FAVOURITE FOOD IS JALEBI\n"
     ]
    }
   ],
   "source": [
    "k = \"JAYESH'S FAVOURITE FOOD IS JALEBI\"\n",
    "print(k)"
   ]
  },
  {
   "cell_type": "code",
   "execution_count": 50,
   "id": "df270e59",
   "metadata": {},
   "outputs": [
    {
     "name": "stdout",
     "output_type": "stream",
     "text": [
      "\n",
      "MANGO , \n",
      "APPLE , \n",
      "CHERRY ,\n",
      "BANANA \n",
      "ARE FRIUTS\n",
      "\n"
     ]
    }
   ],
   "source": [
    "l = \"\"\"\n",
    "MANGO , \n",
    "APPLE , \n",
    "CHERRY ,\n",
    "BANANA \n",
    "ARE FRIUTS\n",
    "\"\"\"\n",
    "print(l)"
   ]
  },
  {
   "cell_type": "code",
   "execution_count": 51,
   "id": "883d485b",
   "metadata": {},
   "outputs": [
    {
     "name": "stdout",
     "output_type": "stream",
     "text": [
      "PATIENT WAS CHARGED 100 RUPPES FOR LAB TEST\n"
     ]
    }
   ],
   "source": [
    "s = \"PATIENT WAS CHARGED 100 RUPPES FOR LAB TEST\"\n",
    "print(s)"
   ]
  },
  {
   "cell_type": "code",
   "execution_count": 52,
   "id": "8b9d42e5",
   "metadata": {},
   "outputs": [
    {
     "name": "stdout",
     "output_type": "stream",
     "text": [
      "PATIENT WAS CHARGED 200 RUPPES FOR LAB TEST\n"
     ]
    }
   ],
   "source": [
    "t = s.replace ( \"100\" , \"200\" )\n",
    "print(t)"
   ]
  },
  {
   "cell_type": "code",
   "execution_count": 53,
   "id": "1f5f37f0",
   "metadata": {},
   "outputs": [
    {
     "name": "stdout",
     "output_type": "stream",
     "text": [
      "PATIENT WAS CHARGED 100 RUPPES FOR LAB TEST\n"
     ]
    }
   ],
   "source": [
    "s.replace ( \"100\" , \"200\" )\n",
    "print(s)"
   ]
  },
  {
   "cell_type": "code",
   "execution_count": 54,
   "id": "d477f699",
   "metadata": {},
   "outputs": [
    {
     "name": "stdout",
     "output_type": "stream",
     "text": [
      "PATIENT WAS CHARGED 200 RUPPES FOR LAB TEST\n"
     ]
    }
   ],
   "source": [
    "s = s.replace ( \"100\" , \"200\" )\n",
    "print(s)"
   ]
  },
  {
   "cell_type": "code",
   "execution_count": 55,
   "id": "e7d09dcc",
   "metadata": {},
   "outputs": [
    {
     "name": "stdout",
     "output_type": "stream",
     "text": [
      "['__add__', '__class__', '__contains__', '__delattr__', '__dir__', '__doc__', '__eq__', '__format__', '__ge__', '__getattribute__', '__getitem__', '__getnewargs__', '__gt__', '__hash__', '__init__', '__init_subclass__', '__iter__', '__le__', '__len__', '__lt__', '__mod__', '__mul__', '__ne__', '__new__', '__reduce__', '__reduce_ex__', '__repr__', '__rmod__', '__rmul__', '__setattr__', '__sizeof__', '__str__', '__subclasshook__', 'capitalize', 'casefold', 'center', 'count', 'encode', 'endswith', 'expandtabs', 'find', 'format', 'format_map', 'index', 'isalnum', 'isalpha', 'isascii', 'isdecimal', 'isdigit', 'isidentifier', 'islower', 'isnumeric', 'isprintable', 'isspace', 'istitle', 'isupper', 'join', 'ljust', 'lower', 'lstrip', 'maketrans', 'partition', 'removeprefix', 'removesuffix', 'replace', 'rfind', 'rindex', 'rjust', 'rpartition', 'rsplit', 'rstrip', 'split', 'splitlines', 'startswith', 'strip', 'swapcase', 'title', 'translate', 'upper', 'zfill']\n"
     ]
    }
   ],
   "source": [
    "print (dir(s))"
   ]
  },
  {
   "cell_type": "code",
   "execution_count": 56,
   "id": "41e9e02e",
   "metadata": {},
   "outputs": [
    {
     "name": "stdout",
     "output_type": "stream",
     "text": [
      "['__abs__', '__add__', '__and__', '__bool__', '__ceil__', '__class__', '__delattr__', '__dir__', '__divmod__', '__doc__', '__eq__', '__float__', '__floor__', '__floordiv__', '__format__', '__ge__', '__getattribute__', '__getnewargs__', '__gt__', '__hash__', '__index__', '__init__', '__init_subclass__', '__int__', '__invert__', '__le__', '__lshift__', '__lt__', '__mod__', '__mul__', '__ne__', '__neg__', '__new__', '__or__', '__pos__', '__pow__', '__radd__', '__rand__', '__rdivmod__', '__reduce__', '__reduce_ex__', '__repr__', '__rfloordiv__', '__rlshift__', '__rmod__', '__rmul__', '__ror__', '__round__', '__rpow__', '__rrshift__', '__rshift__', '__rsub__', '__rtruediv__', '__rxor__', '__setattr__', '__sizeof__', '__str__', '__sub__', '__subclasshook__', '__truediv__', '__trunc__', '__xor__', 'as_integer_ratio', 'bit_count', 'bit_length', 'conjugate', 'denominator', 'from_bytes', 'imag', 'numerator', 'real', 'to_bytes']\n"
     ]
    }
   ],
   "source": [
    "x = 10\n",
    "print (dir(x))"
   ]
  },
  {
   "cell_type": "code",
   "execution_count": 57,
   "id": "4570feef",
   "metadata": {},
   "outputs": [
    {
     "name": "stdout",
     "output_type": "stream",
     "text": [
      "PATIENT WAS CHARGED 200 RUPPES FOR LAB TEST\n"
     ]
    }
   ],
   "source": [
    "print ( s.upper() )"
   ]
  },
  {
   "cell_type": "code",
   "execution_count": 58,
   "id": "58f4face",
   "metadata": {},
   "outputs": [
    {
     "name": "stdout",
     "output_type": "stream",
     "text": [
      "patient was charged 200 ruppes for lab test\n"
     ]
    }
   ],
   "source": [
    "print ( s.lower() )"
   ]
  },
  {
   "cell_type": "code",
   "execution_count": 59,
   "id": "9bf0209f",
   "metadata": {},
   "outputs": [
    {
     "name": "stdout",
     "output_type": "stream",
     "text": [
      "Patient Was Charged 200 Ruppes For Lab Test\n"
     ]
    }
   ],
   "source": [
    "print ( s.title() )"
   ]
  },
  {
   "cell_type": "code",
   "execution_count": 60,
   "id": "c4d9ea8d",
   "metadata": {},
   "outputs": [
    {
     "name": "stdout",
     "output_type": "stream",
     "text": [
      "8\n"
     ]
    }
   ],
   "source": [
    "print ( s.find(\"WAS\") )"
   ]
  },
  {
   "cell_type": "code",
   "execution_count": 61,
   "id": "c363860d",
   "metadata": {},
   "outputs": [
    {
     "name": "stdout",
     "output_type": "stream",
     "text": [
      "MY AGE IS 20\n"
     ]
    }
   ],
   "source": [
    "text = \"MY AGE IS \"\n",
    "age = 20\n",
    "age = str(age)\n",
    "print ( text + age )"
   ]
  },
  {
   "cell_type": "code",
   "execution_count": 62,
   "id": "014b6318",
   "metadata": {},
   "outputs": [
    {
     "name": "stdout",
     "output_type": "stream",
     "text": [
      "['APPLE', 'MANGO', 'CHERRY', 'GRAPES', 'BANANA', 'BERRY']\n"
     ]
    }
   ],
   "source": [
    "fruits = [ \"APPLE\" , \"MANGO\" , \"CHERRY\" , \"GRAPES\" , \"BANANA\" , \"BERRY\" ]\n",
    "print(fruits)"
   ]
  },
  {
   "cell_type": "code",
   "execution_count": 63,
   "id": "df351997",
   "metadata": {},
   "outputs": [
    {
     "name": "stdout",
     "output_type": "stream",
     "text": [
      "<class 'str'>\n"
     ]
    }
   ],
   "source": [
    "dates = \"30-09-2023\"\n",
    "print (type(dates))"
   ]
  },
  {
   "cell_type": "code",
   "execution_count": 64,
   "id": "c89e0ee2",
   "metadata": {},
   "outputs": [
    {
     "name": "stdout",
     "output_type": "stream",
     "text": [
      "BANANA\n"
     ]
    }
   ],
   "source": [
    "print (fruits[4] )"
   ]
  },
  {
   "cell_type": "code",
   "execution_count": 65,
   "id": "a02def19",
   "metadata": {},
   "outputs": [
    {
     "name": "stdout",
     "output_type": "stream",
     "text": [
      "['GRAPES', 'BANANA', 'BERRY']\n"
     ]
    }
   ],
   "source": [
    "print (fruits[-3:])"
   ]
  },
  {
   "cell_type": "code",
   "execution_count": 66,
   "id": "3d834a16",
   "metadata": {},
   "outputs": [
    {
     "name": "stdout",
     "output_type": "stream",
     "text": [
      "['GRAPES', 'BANANA', 'BERRY']\n"
     ]
    }
   ],
   "source": [
    "print (fruits[3:6])"
   ]
  },
  {
   "cell_type": "code",
   "execution_count": 67,
   "id": "f50562fa",
   "metadata": {},
   "outputs": [
    {
     "name": "stdout",
     "output_type": "stream",
     "text": [
      "BANANA\n"
     ]
    }
   ],
   "source": [
    "print (fruits[-2])"
   ]
  },
  {
   "cell_type": "code",
   "execution_count": 68,
   "id": "0cb3ca10",
   "metadata": {},
   "outputs": [
    {
     "name": "stdout",
     "output_type": "stream",
     "text": [
      "['__add__', '__class__', '__class_getitem__', '__contains__', '__delattr__', '__delitem__', '__dir__', '__doc__', '__eq__', '__format__', '__ge__', '__getattribute__', '__getitem__', '__gt__', '__hash__', '__iadd__', '__imul__', '__init__', '__init_subclass__', '__iter__', '__le__', '__len__', '__lt__', '__mul__', '__ne__', '__new__', '__reduce__', '__reduce_ex__', '__repr__', '__reversed__', '__rmul__', '__setattr__', '__setitem__', '__sizeof__', '__str__', '__subclasshook__', 'append', 'clear', 'copy', 'count', 'extend', 'index', 'insert', 'pop', 'remove', 'reverse', 'sort']\n"
     ]
    }
   ],
   "source": [
    "print (dir(fruits))"
   ]
  },
  {
   "cell_type": "code",
   "execution_count": 69,
   "id": "7d2ff96b",
   "metadata": {},
   "outputs": [
    {
     "name": "stdout",
     "output_type": "stream",
     "text": [
      "['APPLE', 'MANGO', 'CHERRY', 'GRAPES', 'BANANA', 'BERRY', 'MELON']\n"
     ]
    }
   ],
   "source": [
    "fruits.append(\"MELON\")\n",
    "print(fruits)"
   ]
  },
  {
   "cell_type": "code",
   "execution_count": 70,
   "id": "dc54da09",
   "metadata": {},
   "outputs": [
    {
     "name": "stdout",
     "output_type": "stream",
     "text": [
      "['APPLE', 'MANGO', 'CHERRY', 'ORANGE', 'GRAPES', 'BANANA', 'BERRY', 'MELON']\n"
     ]
    }
   ],
   "source": [
    "fruits.insert(3,\"ORANGE\")\n",
    "print(fruits)"
   ]
  },
  {
   "cell_type": "code",
   "execution_count": 71,
   "id": "89a222dc",
   "metadata": {},
   "outputs": [
    {
     "name": "stdout",
     "output_type": "stream",
     "text": [
      "['APPLE', 'MANGO', 'CHERRY', 'ORANGE', 'GRAPES', 'BANANA', 'BERRY', 'MELON']\n"
     ]
    }
   ],
   "source": [
    "print(fruits)"
   ]
  },
  {
   "cell_type": "code",
   "execution_count": 72,
   "id": "6e58edd9",
   "metadata": {},
   "outputs": [
    {
     "name": "stdout",
     "output_type": "stream",
     "text": [
      "['APPLE', 'MANGO', 'CHERRY', 'ORANGE', 'BANANA', 'BERRY', 'MELON']\n"
     ]
    }
   ],
   "source": [
    "fruits.remove(\"GRAPES\")\n",
    "print(fruits)"
   ]
  },
  {
   "cell_type": "code",
   "execution_count": 73,
   "id": "22772385",
   "metadata": {},
   "outputs": [
    {
     "name": "stdout",
     "output_type": "stream",
     "text": [
      "['APPLE', 'MANGO', 'CHERRY', 'ORANGE', 'BANANA', 'MELON']\n"
     ]
    }
   ],
   "source": [
    "fruits.pop(5)\n",
    "print(fruits)"
   ]
  },
  {
   "cell_type": "code",
   "execution_count": 74,
   "id": "3242131b",
   "metadata": {},
   "outputs": [
    {
     "name": "stdout",
     "output_type": "stream",
     "text": [
      "True\n"
     ]
    }
   ],
   "source": [
    "print ( \"MANGO\" in fruits )"
   ]
  },
  {
   "cell_type": "code",
   "execution_count": 75,
   "id": "84c90fe7",
   "metadata": {},
   "outputs": [
    {
     "name": "stdout",
     "output_type": "stream",
     "text": [
      "['APPLE', 'MANGO', 'CHERRY', 'ORANGE', 'BANANA', 'MELON', 'GUAVA', 'PEAR']\n"
     ]
    }
   ],
   "source": [
    "fruits.extend ( [ \"GUAVA\" , \"PEAR\" ] )\n",
    "print(fruits)"
   ]
  },
  {
   "cell_type": "code",
   "execution_count": 76,
   "id": "488ff812",
   "metadata": {},
   "outputs": [
    {
     "name": "stdout",
     "output_type": "stream",
     "text": [
      "False\n"
     ]
    }
   ],
   "source": [
    "print ( \"KIWI\" in fruits )"
   ]
  },
  {
   "cell_type": "code",
   "execution_count": 77,
   "id": "2564aa1d",
   "metadata": {},
   "outputs": [
    {
     "name": "stdout",
     "output_type": "stream",
     "text": [
      "ENTER INTEGER : 48\n",
      "EVEN NUMBER\n"
     ]
    }
   ],
   "source": [
    "x = input(\"ENTER INTEGER : \")\n",
    "x = int(x)\n",
    "if x % 2 == 0:\n",
    "    print(\"EVEN NUMBER\")\n",
    "else:\n",
    "    print(\"ODD NUMBER\") "
   ]
  },
  {
   "cell_type": "code",
   "execution_count": 78,
   "id": "a818b1dd",
   "metadata": {},
   "outputs": [
    {
     "name": "stdout",
     "output_type": "stream",
     "text": [
      "ENTER FLOAT : 60.84\n",
      "POSITIVE NUMBER\n"
     ]
    }
   ],
   "source": [
    "y = float(input(\"ENTER FLOAT : \"))\n",
    "if y >= 0:\n",
    "    print(\"POSITIVE NUMBER\")\n",
    "else:\n",
    "    print(\"NEGATIVE NUMBER\") "
   ]
  },
  {
   "cell_type": "code",
   "execution_count": 79,
   "id": "ee991530",
   "metadata": {},
   "outputs": [
    {
     "name": "stdout",
     "output_type": "stream",
     "text": [
      "ENTER THE DISH NAME :PIZZA\n",
      " PIZZA IS ITALIAN FOOD\n"
     ]
    }
   ],
   "source": [
    "indian = [ \"PANI_PURI\" , \"RICE\" , \"DAL\" , \"CHAPATI\" , \"CURRY\" ]\n",
    "chinese = [ \"FRIED_RICE\" , \"EGG_ROLE\" , \"MANCHOW_SOUP\" , \"HAKKA_NOODLES\" ]\n",
    "italian = [ \"PIZZA\" , \"PASTA\" , \"RISOTTO\" ]\n",
    "\n",
    "dish = input(\"ENTER THE DISH NAME :\")\n",
    "\n",
    "if dish in indian:\n",
    "    print ( f\" {dish} IS INDIAN FOOD\" )\n",
    "\n",
    "elif dish in chinese:\n",
    "    print ( f\" {dish} IS CHINESE FOOD\" )\n",
    "    \n",
    "elif dish in italian:\n",
    "    print ( f\" {dish} IS ITALIAN FOOD\" )\n",
    "\n",
    "else:\n",
    "    print ( \"UNKOWN DISH NAME\" )    "
   ]
  },
  {
   "cell_type": "code",
   "execution_count": 80,
   "id": "12eab982",
   "metadata": {},
   "outputs": [
    {
     "name": "stdout",
     "output_type": "stream",
     "text": [
      "ENTER THE DISH NAME :pizza\n",
      "UNKOWN DISH NAME\n"
     ]
    }
   ],
   "source": [
    "indian = [ \"PANI_PURI\" , \"RICE\" , \"DAL\" , \"CHAPATI\" , \"CURRY\" ]\n",
    "chinese = [ \"FRIED_RICE\" , \"EGG_ROLE\" , \"MANCHOW_SOUP\" , \"HAKKA_NOODLES\" ]\n",
    "italian = [ \"PIZZA\" , \"PASTA\" , \"RISOTTO\" ]\n",
    "\n",
    "dish = input(\"ENTER THE DISH NAME :\")\n",
    "\n",
    "if dish in indian:\n",
    "    print ( f\" {dish} IS INDIAN FOOD\" )\n",
    "\n",
    "elif dish in chinese:\n",
    "    print ( f\" {dish} IS CHINESE FOOD\" )\n",
    "    \n",
    "elif dish in italian:\n",
    "    print ( f\" {dish} IS ITALIAN FOOD\" )  \n",
    "    \n",
    "else:\n",
    "    print ( \"UNKOWN DISH NAME\" )"
   ]
  },
  {
   "cell_type": "code",
   "execution_count": null,
   "id": "7d5684a8",
   "metadata": {},
   "outputs": [],
   "source": []
  }
 ],
 "metadata": {
  "kernelspec": {
   "display_name": "Python 3 (ipykernel)",
   "language": "python",
   "name": "python3"
  },
  "language_info": {
   "codemirror_mode": {
    "name": "ipython",
    "version": 3
   },
   "file_extension": ".py",
   "mimetype": "text/x-python",
   "name": "python",
   "nbconvert_exporter": "python",
   "pygments_lexer": "ipython3",
   "version": "3.10.9"
  }
 },
 "nbformat": 4,
 "nbformat_minor": 5
}
