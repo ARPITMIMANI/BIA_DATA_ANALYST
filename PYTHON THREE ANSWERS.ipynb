{
 "cells": [
  {
   "cell_type": "code",
   "execution_count": 1,
   "id": "6b191085",
   "metadata": {},
   "outputs": [
    {
     "name": "stdout",
     "output_type": "stream",
     "text": [
      "3.142857142857143\n",
      "<class 'float'>\n"
     ]
    }
   ],
   "source": [
    "# CREATE A VARIABLE NAMED \"PI\" AND STORE THE VALUE \"22/7\" IN IT AND CHECK THE DATA TYPE OF THE VARIABLE .      \n",
    "\n",
    "pi_value = 22/7\n",
    "print (pi_value)\n",
    "print ( type (pi_value) )"
   ]
  },
  {
   "cell_type": "code",
   "execution_count": 2,
   "id": "0368d9c1",
   "metadata": {},
   "outputs": [
    {
     "name": "stdout",
     "output_type": "stream",
     "text": [
      "ENTER THE PRINCIPAL AMOUNT :24000\n",
      "ENTER THE RATE OF INTEREST :6.4\n",
      "ENTER THE TIME IN YEARS :3\n",
      "THE SIMPLE INTEREST IS : 4608.0\n"
     ]
    }
   ],
   "source": [
    "''' \n",
    "STORE THE PRINCIPAL AMOUNT , RATE OF INTEREST AND TIME IN DIFFERENT VARIABLES \n",
    "AND THEN CALCULATE THE SIMPLE ITEREST FOR THREE YEARS .\n",
    "'''\n",
    "\n",
    "principal_amount = float ( input ( \"ENTER THE PRINCIPAL AMOUNT :\" ) )\n",
    "rate_of_interest = float ( input ( \"ENTER THE RATE OF INTEREST :\" ) )\n",
    "time_period = float ( input ( \"ENTER THE TIME IN YEARS :\" ) )\n",
    "simple_interest = principal_amount * rate_of_interest * time_period / 100\n",
    "print ( \"THE SIMPLE INTEREST IS :\" , simple_interest )"
   ]
  },
  {
   "cell_type": "code",
   "execution_count": 3,
   "id": "25ef321e",
   "metadata": {},
   "outputs": [
    {
     "name": "stdout",
     "output_type": "stream",
     "text": [
      "ENTER THE RADIUS OF THE POND IN METERS:64\n",
      "THE AREA OF POND IS 12867.963509103793 SQUARE METERS\n"
     ]
    }
   ],
   "source": [
    "# THERE IS A CIRCULAR POND IN A VILLAGE . THIS POND HAS A RADIUS OF 84 METERS THEN FIND THE AREA OF THE POND .\n",
    "\n",
    "import numpy as np\n",
    "radius_of_pond = float ( input ( \"ENTER THE RADIUS OF THE POND IN METERS:\" ) )\n",
    "area_of_pond =  np.pi * radius_of_pond * radius_of_pond\n",
    "print ( \"THE AREA OF POND IS\" , area_of_pond , \"SQUARE METERS\" )"
   ]
  },
  {
   "cell_type": "code",
   "execution_count": 4,
   "id": "3a1833d9",
   "metadata": {},
   "outputs": [
    {
     "name": "stdout",
     "output_type": "stream",
     "text": [
      "THE AMOUNT OF WATER IN THE POND IS 18.01514891274531 CUBIC METERS\n"
     ]
    }
   ],
   "source": [
    "# THERE IS EXACTLY 1.4 LITERS OF WATER IN SQUARE METER WHAT IS THE AMOUNT OF WATER IN THE POND .\n",
    "\n",
    "liters_of_water = 1.4 \n",
    "height_of_water_in_meters = liters_of_water / 1000\n",
    "print ( \"THE AMOUNT OF WATER IN THE POND IS\" , height_of_water_in_meters * area_of_pond , \"CUBIC METERS\" )"
   ]
  },
  {
   "cell_type": "code",
   "execution_count": null,
   "id": "4df32fc3",
   "metadata": {},
   "outputs": [],
   "source": []
  }
 ],
 "metadata": {
  "kernelspec": {
   "display_name": "Python 3 (ipykernel)",
   "language": "python",
   "name": "python3"
  },
  "language_info": {
   "codemirror_mode": {
    "name": "ipython",
    "version": 3
   },
   "file_extension": ".py",
   "mimetype": "text/x-python",
   "name": "python",
   "nbconvert_exporter": "python",
   "pygments_lexer": "ipython3",
   "version": "3.10.9"
  }
 },
 "nbformat": 4,
 "nbformat_minor": 5
}
